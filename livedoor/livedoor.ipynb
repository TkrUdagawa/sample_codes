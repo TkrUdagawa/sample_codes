{
 "cells": [
  {
   "cell_type": "code",
   "execution_count": null,
   "metadata": {},
   "outputs": [],
   "source": [
    "import pandas as pd\n",
    "import os\n",
    "categories = [f for f in os.listdir(\"text\") if os.path.isdir(os.path.join(\"text\", f))]\n",
    "print(categories)\n",
    "articles = []\n",
    "for c in categories:\n",
    "    articles = articles + [(c, os.path.join(\"text\", c, t)) for t in os.listdir(os.path.join(\"text\", c)) if t != \"LICENSE.txt\"]\n",
    "df = pd.DataFrame(articles, columns=[\"target\", \"data\"])"
   ]
  },
  {
   "cell_type": "code",
   "execution_count": null,
   "metadata": {
    "collapsed": true
   },
   "outputs": [],
   "source": [
    "from jubatus.common import Datum\n",
    "\n",
    "datum_list = []\n",
    "for d in df[\"data\"]:\n",
    "    dt = Datum()\n",
    "    with open(d) as f:\n",
    "        l = f.readlines()\n",
    "        doc = l[2].rstrip()\n",
    "        # doc = \"\".join(l[3:]).replace(\"\\n\", \"\")\n",
    "        dt.add_string(\"body\", doc)\n",
    "    datum_list.append(dt)"
   ]
  },
  {
   "cell_type": "code",
   "execution_count": null,
   "metadata": {
    "collapsed": true
   },
   "outputs": [],
   "source": [
    "from sklearn.model_selection import train_test_split, StratifiedKFold\n",
    "\n",
    "X_train, X_test, y_train, y_test = train_test_split(df[\"data\"], df[\"target\"], random_state=42, stratify=df[\"target\"])\n",
    "num_splits = 4\n",
    "kf = StratifiedKFold(n_splits=num_splits, random_state=42, shuffle=True)"
   ]
  },
  {
   "cell_type": "code",
   "execution_count": null,
   "metadata": {
    "collapsed": true
   },
   "outputs": [],
   "source": [
    "from embedded_jubatus import Classifier\n",
    "cl = Classifier(\"./jubatus_config/arow.json\")"
   ]
  },
  {
   "cell_type": "code",
   "execution_count": null,
   "metadata": {},
   "outputs": [],
   "source": [
    "# cross validation\n",
    "import random\n",
    "from sklearn.utils import shuffle\n",
    "random.seed(42)\n",
    "y_cv_results = []\n",
    "for fold, indexes in enumerate(kf.split(X_train.index, y_train)):\n",
    "    cl.clear()\n",
    "    print(\"{} fold\".format(fold))\n",
    "    train_index, test_index = indexes\n",
    "    print(len(train_index), len(test_index))\n",
    "    training_data = [(df[\"target\"][X_train.index[i]], datum_list[X_train.index[i]]) for i in train_index]\n",
    "    cl.train(training_data)\n",
    "    test_data = [datum_list[y_train.index[i]] for i in test_index]\n",
    "    y = [df[\"target\"][y_train.index[i]] for i in test_index]\n",
    "    result = cl.classify(test_data)\n",
    "    y_pred = [max(x, key=lambda y:y.score).label  for x in result]\n",
    "    y_cv_results.append([y, y_pred])"
   ]
  },
  {
   "cell_type": "code",
   "execution_count": null,
   "metadata": {},
   "outputs": [],
   "source": [
    "from sklearn.metrics import classification_report, confusion_matrix\n",
    "\n",
    "y_sum = []\n",
    "y_pred_sum = []\n",
    "for y, y_pred in y_cv_results:\n",
    "    # print(classification_report(y, y_pred))\n",
    "    # print(confusion_matrix(y, y_pred))\n",
    "    y_sum.extend(y)\n",
    "    y_pred_sum.extend(y_pred)\n",
    "print(classification_report(y_sum, y_pred_sum))\n",
    "print(confusion_matrix(y_sum, y_pred_sum))"
   ]
  },
  {
   "cell_type": "code",
   "execution_count": null,
   "metadata": {
    "collapsed": true
   },
   "outputs": [],
   "source": [
    "# holdout\n",
    "cl.clear()\n",
    "training_data = [(df[\"target\"][i], datum_list[i]) for i in X_train.index]\n",
    "test_data = [datum_list[i] for i in X_test.index]\n",
    "y_test = [df[\"target\"][i] for i in X_test.index]\n",
    "cl.train(training_data)\n",
    "r = cl.classify(test_data)"
   ]
  },
  {
   "cell_type": "code",
   "execution_count": null,
   "metadata": {
    "scrolled": true
   },
   "outputs": [],
   "source": [
    "y_pred = [max(x, key=lambda y:y.score).label  for x in r]\n",
    "report = classification_report(y_test, y_pred)\n",
    "print(report)\n",
    "print(confusion_matrix(y_test, y_pred))"
   ]
  },
  {
   "cell_type": "code",
   "execution_count": null,
   "metadata": {
    "collapsed": true
   },
   "outputs": [],
   "source": []
  },
  {
   "cell_type": "code",
   "execution_count": null,
   "metadata": {
    "collapsed": true
   },
   "outputs": [],
   "source": []
  }
 ],
 "metadata": {
  "kernelspec": {
   "display_name": "Python 3",
   "language": "python",
   "name": "python3"
  },
  "language_info": {
   "codemirror_mode": {
    "name": "ipython",
    "version": 3
   },
   "file_extension": ".py",
   "mimetype": "text/x-python",
   "name": "python",
   "nbconvert_exporter": "python",
   "pygments_lexer": "ipython3",
   "version": "3.6.2"
  }
 },
 "nbformat": 4,
 "nbformat_minor": 2
}
